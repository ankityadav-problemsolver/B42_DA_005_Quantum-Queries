{
 "cells": [
  {
   "cell_type": "code",
   "execution_count": 1,
   "id": "80876dbc-b503-4729-8336-9ade89840030",
   "metadata": {},
   "outputs": [],
   "source": [
    "import pandas as pd "
   ]
  },
  {
   "cell_type": "code",
   "execution_count": 2,
   "id": "af291f27-2783-4a5e-b0b8-df233adc78ca",
   "metadata": {},
   "outputs": [],
   "source": [
    "with open(\"investments_VC.csv\", \"rb\") as file:\n",
    "    content = file.read()\n",
    "\n",
    "# Attempt to decode with 'utf-8', ignoring errors\n",
    "decoded_content = content.decode(\"utf-8\", errors=\"ignore\")\n",
    "\n",
    "# Use pandas to read the CSV from the decoded content\n",
    "import io\n",
    "import pandas as pd\n",
    "dff= pd.read_csv(io.StringIO(decoded_content))\n",
    "\n"
   ]
  },
  {
   "cell_type": "code",
   "execution_count": 3,
   "id": "998c51b3-b750-4162-a161-4a0f165f2d94",
   "metadata": {},
   "outputs": [
    {
     "data": {
      "text/html": [
       "<div>\n",
       "<style scoped>\n",
       "    .dataframe tbody tr th:only-of-type {\n",
       "        vertical-align: middle;\n",
       "    }\n",
       "\n",
       "    .dataframe tbody tr th {\n",
       "        vertical-align: top;\n",
       "    }\n",
       "\n",
       "    .dataframe thead th {\n",
       "        text-align: right;\n",
       "    }\n",
       "</style>\n",
       "<table border=\"1\" class=\"dataframe\">\n",
       "  <thead>\n",
       "    <tr style=\"text-align: right;\">\n",
       "      <th></th>\n",
       "      <th>permalink</th>\n",
       "      <th>name</th>\n",
       "      <th>homepage_url</th>\n",
       "      <th>category_list</th>\n",
       "      <th>market</th>\n",
       "      <th>funding_total_usd</th>\n",
       "      <th>status</th>\n",
       "      <th>country_code</th>\n",
       "      <th>state_code</th>\n",
       "      <th>region</th>\n",
       "      <th>...</th>\n",
       "      <th>secondary_market</th>\n",
       "      <th>product_crowdfunding</th>\n",
       "      <th>round_A</th>\n",
       "      <th>round_B</th>\n",
       "      <th>round_C</th>\n",
       "      <th>round_D</th>\n",
       "      <th>round_E</th>\n",
       "      <th>round_F</th>\n",
       "      <th>round_G</th>\n",
       "      <th>round_H</th>\n",
       "    </tr>\n",
       "  </thead>\n",
       "  <tbody>\n",
       "    <tr>\n",
       "      <th>0</th>\n",
       "      <td>/organization/waywire</td>\n",
       "      <td>#waywire</td>\n",
       "      <td>http://www.waywire.com</td>\n",
       "      <td>|Entertainment|Politics|Social Media|News|</td>\n",
       "      <td>News</td>\n",
       "      <td>17,50,000</td>\n",
       "      <td>acquired</td>\n",
       "      <td>USA</td>\n",
       "      <td>NY</td>\n",
       "      <td>New York City</td>\n",
       "      <td>...</td>\n",
       "      <td>0.0</td>\n",
       "      <td>0.0</td>\n",
       "      <td>0.0</td>\n",
       "      <td>0.0</td>\n",
       "      <td>0.0</td>\n",
       "      <td>0.0</td>\n",
       "      <td>0.0</td>\n",
       "      <td>0.0</td>\n",
       "      <td>0.0</td>\n",
       "      <td>0.0</td>\n",
       "    </tr>\n",
       "    <tr>\n",
       "      <th>1</th>\n",
       "      <td>/organization/tv-communications</td>\n",
       "      <td>&amp;TV Communications</td>\n",
       "      <td>http://enjoyandtv.com</td>\n",
       "      <td>|Games|</td>\n",
       "      <td>Games</td>\n",
       "      <td>40,00,000</td>\n",
       "      <td>operating</td>\n",
       "      <td>USA</td>\n",
       "      <td>CA</td>\n",
       "      <td>Los Angeles</td>\n",
       "      <td>...</td>\n",
       "      <td>0.0</td>\n",
       "      <td>0.0</td>\n",
       "      <td>0.0</td>\n",
       "      <td>0.0</td>\n",
       "      <td>0.0</td>\n",
       "      <td>0.0</td>\n",
       "      <td>0.0</td>\n",
       "      <td>0.0</td>\n",
       "      <td>0.0</td>\n",
       "      <td>0.0</td>\n",
       "    </tr>\n",
       "    <tr>\n",
       "      <th>2</th>\n",
       "      <td>/organization/rock-your-paper</td>\n",
       "      <td>'Rock' Your Paper</td>\n",
       "      <td>http://www.rockyourpaper.org</td>\n",
       "      <td>|Publishing|Education|</td>\n",
       "      <td>Publishing</td>\n",
       "      <td>40,000</td>\n",
       "      <td>operating</td>\n",
       "      <td>EST</td>\n",
       "      <td>NaN</td>\n",
       "      <td>Tallinn</td>\n",
       "      <td>...</td>\n",
       "      <td>0.0</td>\n",
       "      <td>0.0</td>\n",
       "      <td>0.0</td>\n",
       "      <td>0.0</td>\n",
       "      <td>0.0</td>\n",
       "      <td>0.0</td>\n",
       "      <td>0.0</td>\n",
       "      <td>0.0</td>\n",
       "      <td>0.0</td>\n",
       "      <td>0.0</td>\n",
       "    </tr>\n",
       "    <tr>\n",
       "      <th>3</th>\n",
       "      <td>/organization/in-touch-network</td>\n",
       "      <td>(In)Touch Network</td>\n",
       "      <td>http://www.InTouchNetwork.com</td>\n",
       "      <td>|Electronics|Guides|Coffee|Restaurants|Music|i...</td>\n",
       "      <td>Electronics</td>\n",
       "      <td>15,00,000</td>\n",
       "      <td>operating</td>\n",
       "      <td>GBR</td>\n",
       "      <td>NaN</td>\n",
       "      <td>London</td>\n",
       "      <td>...</td>\n",
       "      <td>0.0</td>\n",
       "      <td>0.0</td>\n",
       "      <td>0.0</td>\n",
       "      <td>0.0</td>\n",
       "      <td>0.0</td>\n",
       "      <td>0.0</td>\n",
       "      <td>0.0</td>\n",
       "      <td>0.0</td>\n",
       "      <td>0.0</td>\n",
       "      <td>0.0</td>\n",
       "    </tr>\n",
       "    <tr>\n",
       "      <th>4</th>\n",
       "      <td>/organization/r-ranch-and-mine</td>\n",
       "      <td>-R- Ranch and Mine</td>\n",
       "      <td>NaN</td>\n",
       "      <td>|Tourism|Entertainment|Games|</td>\n",
       "      <td>Tourism</td>\n",
       "      <td>60,000</td>\n",
       "      <td>operating</td>\n",
       "      <td>USA</td>\n",
       "      <td>TX</td>\n",
       "      <td>Dallas</td>\n",
       "      <td>...</td>\n",
       "      <td>0.0</td>\n",
       "      <td>0.0</td>\n",
       "      <td>0.0</td>\n",
       "      <td>0.0</td>\n",
       "      <td>0.0</td>\n",
       "      <td>0.0</td>\n",
       "      <td>0.0</td>\n",
       "      <td>0.0</td>\n",
       "      <td>0.0</td>\n",
       "      <td>0.0</td>\n",
       "    </tr>\n",
       "  </tbody>\n",
       "</table>\n",
       "<p>5 rows × 39 columns</p>\n",
       "</div>"
      ],
      "text/plain": [
       "                         permalink                name  \\\n",
       "0            /organization/waywire            #waywire   \n",
       "1  /organization/tv-communications  &TV Communications   \n",
       "2    /organization/rock-your-paper   'Rock' Your Paper   \n",
       "3   /organization/in-touch-network   (In)Touch Network   \n",
       "4   /organization/r-ranch-and-mine  -R- Ranch and Mine   \n",
       "\n",
       "                    homepage_url  \\\n",
       "0         http://www.waywire.com   \n",
       "1          http://enjoyandtv.com   \n",
       "2   http://www.rockyourpaper.org   \n",
       "3  http://www.InTouchNetwork.com   \n",
       "4                            NaN   \n",
       "\n",
       "                                       category_list        market   \\\n",
       "0         |Entertainment|Politics|Social Media|News|          News    \n",
       "1                                            |Games|         Games    \n",
       "2                             |Publishing|Education|    Publishing    \n",
       "3  |Electronics|Guides|Coffee|Restaurants|Music|i...   Electronics    \n",
       "4                      |Tourism|Entertainment|Games|       Tourism    \n",
       "\n",
       "   funding_total_usd      status country_code state_code         region  ...  \\\n",
       "0          17,50,000    acquired          USA         NY  New York City  ...   \n",
       "1          40,00,000   operating          USA         CA    Los Angeles  ...   \n",
       "2             40,000   operating          EST        NaN        Tallinn  ...   \n",
       "3          15,00,000   operating          GBR        NaN         London  ...   \n",
       "4             60,000   operating          USA         TX         Dallas  ...   \n",
       "\n",
       "  secondary_market  product_crowdfunding round_A round_B round_C  round_D  \\\n",
       "0              0.0                   0.0     0.0     0.0     0.0      0.0   \n",
       "1              0.0                   0.0     0.0     0.0     0.0      0.0   \n",
       "2              0.0                   0.0     0.0     0.0     0.0      0.0   \n",
       "3              0.0                   0.0     0.0     0.0     0.0      0.0   \n",
       "4              0.0                   0.0     0.0     0.0     0.0      0.0   \n",
       "\n",
       "  round_E round_F  round_G  round_H  \n",
       "0     0.0     0.0      0.0      0.0  \n",
       "1     0.0     0.0      0.0      0.0  \n",
       "2     0.0     0.0      0.0      0.0  \n",
       "3     0.0     0.0      0.0      0.0  \n",
       "4     0.0     0.0      0.0      0.0  \n",
       "\n",
       "[5 rows x 39 columns]"
      ]
     },
     "execution_count": 3,
     "metadata": {},
     "output_type": "execute_result"
    }
   ],
   "source": [
    "dff.head()"
   ]
  },
  {
   "cell_type": "markdown",
   "id": "1d3c2f4a-487f-4a42-8ec6-581c1e1e8181",
   "metadata": {},
   "source": [
    "# DATA CLEANING "
   ]
  },
  {
   "cell_type": "markdown",
   "id": "9daa24bd-d9a1-4eec-b98e-b46056fbd943",
   "metadata": {},
   "source": [
    "## Data Cleaning Summary\n",
    "### Standardized Column Names – Converted to lowercase, replaced spaces/special characters with underscores for consistency.\n",
    "### Converted Funding Values – Removed commas/special characters, converted to numeric, and replaced invalid values with NaN.\n",
    "### Handled Missing Values – Categorical data filled with \"Unknown\"; numerical data imputed with the median.\n",
    "### Formatted Date Columns – Converted to datetime format for better analysis; estimated missing dates using available data.\n",
    "### Derived Missing Date Info – Extracted missing founded_year, founded_month, and founded_quarter from other date fields.\n",
    "### Optimized Data Types – Converted categorical columns to category type for better memory efficiency.\n",
    "### Removed Duplicates – Eliminated duplicate records to ensure data accuracy.\n",
    "### Saved Cleaned Dataset – Stored as \".csv\" for further analysis.\n",
    "\n",
    "\n",
    "\n",
    "\n",
    "\n",
    "\n"
   ]
  },
  {
   "cell_type": "code",
   "execution_count": 4,
   "id": "604ce5fd-18a5-4615-95dd-0ad7bd057107",
   "metadata": {},
   "outputs": [],
   "source": [
    "# stripping the columns"
   ]
  },
  {
   "cell_type": "code",
   "execution_count": 5,
   "id": "4d464ad6-9018-46ed-a415-7d6312dc0d32",
   "metadata": {},
   "outputs": [],
   "source": [
    "dff.columns = dff.columns.str.strip()\n"
   ]
  },
  {
   "cell_type": "code",
   "execution_count": 6,
   "id": "79fa5f3b-e30f-4808-8dbc-0207fb4d03dd",
   "metadata": {},
   "outputs": [
    {
     "data": {
      "text/plain": [
       "Index(['permalink', 'name', 'homepage_url', 'category_list', 'market',\n",
       "       'funding_total_usd', 'status', 'country_code', 'state_code', 'region',\n",
       "       'city', 'funding_rounds', 'founded_at', 'founded_month',\n",
       "       'founded_quarter', 'founded_year', 'first_funding_at',\n",
       "       'last_funding_at', 'seed', 'venture', 'equity_crowdfunding',\n",
       "       'undisclosed', 'convertible_note', 'debt_financing', 'angel', 'grant',\n",
       "       'private_equity', 'post_ipo_equity', 'post_ipo_debt',\n",
       "       'secondary_market', 'product_crowdfunding', 'round_A', 'round_B',\n",
       "       'round_C', 'round_D', 'round_E', 'round_F', 'round_G', 'round_H'],\n",
       "      dtype='object')"
      ]
     },
     "execution_count": 6,
     "metadata": {},
     "output_type": "execute_result"
    }
   ],
   "source": [
    "dff.columns"
   ]
  },
  {
   "cell_type": "code",
   "execution_count": 7,
   "id": "9ccead02-675a-40d8-9789-e5b1cab8928a",
   "metadata": {},
   "outputs": [],
   "source": [
    "#Removing  duplicated rows"
   ]
  },
  {
   "cell_type": "code",
   "execution_count": 8,
   "id": "7993b5d8-3322-4fd9-9f78-bf5411543bb9",
   "metadata": {},
   "outputs": [
    {
     "data": {
      "text/plain": [
       "np.int64(4855)"
      ]
     },
     "execution_count": 8,
     "metadata": {},
     "output_type": "execute_result"
    }
   ],
   "source": [
    "dff.duplicated().sum()"
   ]
  },
  {
   "cell_type": "code",
   "execution_count": 9,
   "id": "ca6a3e81-80f3-4932-b0df-ed5181383ef5",
   "metadata": {},
   "outputs": [],
   "source": [
    "dff=dff.drop_duplicates()"
   ]
  },
  {
   "cell_type": "code",
   "execution_count": 10,
   "id": "8c55e124-e03f-4756-9087-55151e1e5076",
   "metadata": {},
   "outputs": [],
   "source": [
    "# Dropping  unwanted  columns permalin and  "
   ]
  },
  {
   "cell_type": "code",
   "execution_count": 11,
   "id": "a361c2d9-a038-442f-9510-15e0a7e413c7",
   "metadata": {},
   "outputs": [],
   "source": [
    "\n",
    "dff = dff.drop(['permalink', 'homepage_url'], axis=1)"
   ]
  },
  {
   "cell_type": "code",
   "execution_count": 12,
   "id": "dacad8e1-3861-4ef8-817c-9c537a959b6f",
   "metadata": {},
   "outputs": [],
   "source": [
    "# creating  new  df fot  only  getting data which have name  "
   ]
  },
  {
   "cell_type": "code",
   "execution_count": 13,
   "id": "c10672ce-39f9-403d-a16a-71e2d3cf1b1a",
   "metadata": {},
   "outputs": [],
   "source": [
    "dff=dff.loc[dff[\"name\"].notna()]"
   ]
  },
  {
   "cell_type": "code",
   "execution_count": 14,
   "id": "3981996c-dc88-4996-bb4e-98fbdbdab639",
   "metadata": {},
   "outputs": [],
   "source": [
    "# Dropping  catregory list cause market is also telling the   company direction "
   ]
  },
  {
   "cell_type": "code",
   "execution_count": 15,
   "id": "1cd645dc-8128-49f5-9373-5f7e548d11e2",
   "metadata": {},
   "outputs": [],
   "source": [
    "dff = dff.drop([\"category_list\"],axis=1)\n"
   ]
  },
  {
   "cell_type": "code",
   "execution_count": 16,
   "id": "d50b51c5-9953-48bf-ba46-cc5558dcbcab",
   "metadata": {},
   "outputs": [],
   "source": [
    "##funding in usd  Rerplacing the(, -) convert it to int \n"
   ]
  },
  {
   "cell_type": "code",
   "execution_count": 17,
   "id": "7082ce9e-7b73-4797-ba34-15dc67f631bd",
   "metadata": {},
   "outputs": [],
   "source": [
    "def str_to_int(s: str):\n",
    "    try:\n",
    "        s = s.replace(',', '')\n",
    "        if '-' in s:\n",
    "            s = 0\n",
    "        return int(s)\n",
    "    except ValueError:\n",
    "        return s\n",
    "    except AttributeError:\n",
    "        return s\n",
    "dff['funding_total_usd'] = dff['funding_total_usd'].apply(str_to_int)"
   ]
  },
  {
   "cell_type": "code",
   "execution_count": 18,
   "id": "4b13dc50-62b2-44f4-bbb4-eea2c78a939a",
   "metadata": {},
   "outputs": [],
   "source": [
    "# Taking only  those  data  which  have  funding amount  "
   ]
  },
  {
   "cell_type": "code",
   "execution_count": 19,
   "id": "3aa08782-2ab0-42e9-8f44-d90878bd3a83",
   "metadata": {},
   "outputs": [],
   "source": [
    "dff = dff[dff['funding_total_usd']!=0]"
   ]
  },
  {
   "cell_type": "code",
   "execution_count": 20,
   "id": "b0c5c5fa-9143-4d8f-9eec-c772f8b05c3f",
   "metadata": {},
   "outputs": [],
   "source": [
    "#Checking for status  replacing   nan with unknown"
   ]
  },
  {
   "cell_type": "code",
   "execution_count": 21,
   "id": "a6b2420d-ee00-4660-b53a-baa023ba041b",
   "metadata": {},
   "outputs": [
    {
     "data": {
      "text/plain": [
       "np.int64(1105)"
      ]
     },
     "execution_count": 21,
     "metadata": {},
     "output_type": "execute_result"
    }
   ],
   "source": [
    "dff[\"status\"].isnull().sum()"
   ]
  },
  {
   "cell_type": "code",
   "execution_count": 22,
   "id": "675abac0-28c3-4218-96eb-b1ad89b350f1",
   "metadata": {},
   "outputs": [
    {
     "data": {
      "text/html": [
       "<div>\n",
       "<style scoped>\n",
       "    .dataframe tbody tr th:only-of-type {\n",
       "        vertical-align: middle;\n",
       "    }\n",
       "\n",
       "    .dataframe tbody tr th {\n",
       "        vertical-align: top;\n",
       "    }\n",
       "\n",
       "    .dataframe thead th {\n",
       "        text-align: right;\n",
       "    }\n",
       "</style>\n",
       "<table border=\"1\" class=\"dataframe\">\n",
       "  <thead>\n",
       "    <tr style=\"text-align: right;\">\n",
       "      <th></th>\n",
       "      <th>name</th>\n",
       "      <th>market</th>\n",
       "      <th>funding_total_usd</th>\n",
       "      <th>status</th>\n",
       "      <th>country_code</th>\n",
       "      <th>state_code</th>\n",
       "      <th>region</th>\n",
       "      <th>city</th>\n",
       "      <th>funding_rounds</th>\n",
       "      <th>founded_at</th>\n",
       "      <th>...</th>\n",
       "      <th>secondary_market</th>\n",
       "      <th>product_crowdfunding</th>\n",
       "      <th>round_A</th>\n",
       "      <th>round_B</th>\n",
       "      <th>round_C</th>\n",
       "      <th>round_D</th>\n",
       "      <th>round_E</th>\n",
       "      <th>round_F</th>\n",
       "      <th>round_G</th>\n",
       "      <th>round_H</th>\n",
       "    </tr>\n",
       "  </thead>\n",
       "  <tbody>\n",
       "    <tr>\n",
       "      <th>5</th>\n",
       "      <td>.Club Domains</td>\n",
       "      <td>Software</td>\n",
       "      <td>7000000</td>\n",
       "      <td>NaN</td>\n",
       "      <td>USA</td>\n",
       "      <td>FL</td>\n",
       "      <td>Ft. Lauderdale</td>\n",
       "      <td>Oakland Park</td>\n",
       "      <td>1.0</td>\n",
       "      <td>2011-10-10</td>\n",
       "      <td>...</td>\n",
       "      <td>0.0</td>\n",
       "      <td>0.0</td>\n",
       "      <td>0.0</td>\n",
       "      <td>7000000.0</td>\n",
       "      <td>0.0</td>\n",
       "      <td>0.0</td>\n",
       "      <td>0.0</td>\n",
       "      <td>0.0</td>\n",
       "      <td>0.0</td>\n",
       "      <td>0.0</td>\n",
       "    </tr>\n",
       "    <tr>\n",
       "      <th>67</th>\n",
       "      <td>1C Company</td>\n",
       "      <td>Software</td>\n",
       "      <td>200000000</td>\n",
       "      <td>NaN</td>\n",
       "      <td>RUS</td>\n",
       "      <td>NaN</td>\n",
       "      <td>Moscow</td>\n",
       "      <td>Moscow</td>\n",
       "      <td>1.0</td>\n",
       "      <td>1991-01-01</td>\n",
       "      <td>...</td>\n",
       "      <td>0.0</td>\n",
       "      <td>0.0</td>\n",
       "      <td>0.0</td>\n",
       "      <td>0.0</td>\n",
       "      <td>0.0</td>\n",
       "      <td>0.0</td>\n",
       "      <td>0.0</td>\n",
       "      <td>0.0</td>\n",
       "      <td>0.0</td>\n",
       "      <td>0.0</td>\n",
       "    </tr>\n",
       "    <tr>\n",
       "      <th>89</th>\n",
       "      <td>1st Merchant Funding</td>\n",
       "      <td>Financial Services</td>\n",
       "      <td>10000000</td>\n",
       "      <td>NaN</td>\n",
       "      <td>USA</td>\n",
       "      <td>FL</td>\n",
       "      <td>Miami</td>\n",
       "      <td>Miami</td>\n",
       "      <td>1.0</td>\n",
       "      <td>2007-01-01</td>\n",
       "      <td>...</td>\n",
       "      <td>0.0</td>\n",
       "      <td>0.0</td>\n",
       "      <td>0.0</td>\n",
       "      <td>0.0</td>\n",
       "      <td>0.0</td>\n",
       "      <td>0.0</td>\n",
       "      <td>0.0</td>\n",
       "      <td>0.0</td>\n",
       "      <td>0.0</td>\n",
       "      <td>0.0</td>\n",
       "    </tr>\n",
       "    <tr>\n",
       "      <th>433</th>\n",
       "      <td>99 Fahrenheit</td>\n",
       "      <td>Finance</td>\n",
       "      <td>1380700</td>\n",
       "      <td>NaN</td>\n",
       "      <td>ITA</td>\n",
       "      <td>NaN</td>\n",
       "      <td>Milan</td>\n",
       "      <td>Milan</td>\n",
       "      <td>1.0</td>\n",
       "      <td>2011-10-01</td>\n",
       "      <td>...</td>\n",
       "      <td>0.0</td>\n",
       "      <td>0.0</td>\n",
       "      <td>0.0</td>\n",
       "      <td>0.0</td>\n",
       "      <td>0.0</td>\n",
       "      <td>0.0</td>\n",
       "      <td>0.0</td>\n",
       "      <td>0.0</td>\n",
       "      <td>0.0</td>\n",
       "      <td>0.0</td>\n",
       "    </tr>\n",
       "    <tr>\n",
       "      <th>465</th>\n",
       "      <td>A Bit Lucky</td>\n",
       "      <td>Social Games</td>\n",
       "      <td>10312103</td>\n",
       "      <td>NaN</td>\n",
       "      <td>USA</td>\n",
       "      <td>CA</td>\n",
       "      <td>SF Bay Area</td>\n",
       "      <td>San Mateo</td>\n",
       "      <td>2.0</td>\n",
       "      <td>2009-10-01</td>\n",
       "      <td>...</td>\n",
       "      <td>0.0</td>\n",
       "      <td>0.0</td>\n",
       "      <td>0.0</td>\n",
       "      <td>0.0</td>\n",
       "      <td>0.0</td>\n",
       "      <td>0.0</td>\n",
       "      <td>0.0</td>\n",
       "      <td>0.0</td>\n",
       "      <td>0.0</td>\n",
       "      <td>0.0</td>\n",
       "    </tr>\n",
       "    <tr>\n",
       "      <th>...</th>\n",
       "      <td>...</td>\n",
       "      <td>...</td>\n",
       "      <td>...</td>\n",
       "      <td>...</td>\n",
       "      <td>...</td>\n",
       "      <td>...</td>\n",
       "      <td>...</td>\n",
       "      <td>...</td>\n",
       "      <td>...</td>\n",
       "      <td>...</td>\n",
       "      <td>...</td>\n",
       "      <td>...</td>\n",
       "      <td>...</td>\n",
       "      <td>...</td>\n",
       "      <td>...</td>\n",
       "      <td>...</td>\n",
       "      <td>...</td>\n",
       "      <td>...</td>\n",
       "      <td>...</td>\n",
       "      <td>...</td>\n",
       "      <td>...</td>\n",
       "    </tr>\n",
       "    <tr>\n",
       "      <th>49131</th>\n",
       "      <td>Ziftit</td>\n",
       "      <td>Gift Registries</td>\n",
       "      <td>4000000</td>\n",
       "      <td>NaN</td>\n",
       "      <td>USA</td>\n",
       "      <td>CA</td>\n",
       "      <td>San Diego</td>\n",
       "      <td>San Diego</td>\n",
       "      <td>1.0</td>\n",
       "      <td>2011-02-01</td>\n",
       "      <td>...</td>\n",
       "      <td>0.0</td>\n",
       "      <td>0.0</td>\n",
       "      <td>0.0</td>\n",
       "      <td>0.0</td>\n",
       "      <td>0.0</td>\n",
       "      <td>0.0</td>\n",
       "      <td>0.0</td>\n",
       "      <td>0.0</td>\n",
       "      <td>0.0</td>\n",
       "      <td>0.0</td>\n",
       "    </tr>\n",
       "    <tr>\n",
       "      <th>49175</th>\n",
       "      <td>Zingaya</td>\n",
       "      <td>Messaging</td>\n",
       "      <td>1150000</td>\n",
       "      <td>NaN</td>\n",
       "      <td>USA</td>\n",
       "      <td>CA</td>\n",
       "      <td>SF Bay Area</td>\n",
       "      <td>Palo Alto</td>\n",
       "      <td>1.0</td>\n",
       "      <td>2010-06-01</td>\n",
       "      <td>...</td>\n",
       "      <td>0.0</td>\n",
       "      <td>0.0</td>\n",
       "      <td>1150000.0</td>\n",
       "      <td>0.0</td>\n",
       "      <td>0.0</td>\n",
       "      <td>0.0</td>\n",
       "      <td>0.0</td>\n",
       "      <td>0.0</td>\n",
       "      <td>0.0</td>\n",
       "      <td>0.0</td>\n",
       "    </tr>\n",
       "    <tr>\n",
       "      <th>49248</th>\n",
       "      <td>Zocere</td>\n",
       "      <td>Biotechnology</td>\n",
       "      <td>100000</td>\n",
       "      <td>NaN</td>\n",
       "      <td>NaN</td>\n",
       "      <td>NaN</td>\n",
       "      <td>NaN</td>\n",
       "      <td>NaN</td>\n",
       "      <td>1.0</td>\n",
       "      <td>2012-01-01</td>\n",
       "      <td>...</td>\n",
       "      <td>0.0</td>\n",
       "      <td>0.0</td>\n",
       "      <td>0.0</td>\n",
       "      <td>0.0</td>\n",
       "      <td>0.0</td>\n",
       "      <td>0.0</td>\n",
       "      <td>0.0</td>\n",
       "      <td>0.0</td>\n",
       "      <td>0.0</td>\n",
       "      <td>0.0</td>\n",
       "    </tr>\n",
       "    <tr>\n",
       "      <th>49289</th>\n",
       "      <td>Zookal</td>\n",
       "      <td>E-Commerce</td>\n",
       "      <td>2060000</td>\n",
       "      <td>NaN</td>\n",
       "      <td>AUS</td>\n",
       "      <td>NaN</td>\n",
       "      <td>Sydney</td>\n",
       "      <td>Sydney</td>\n",
       "      <td>3.0</td>\n",
       "      <td>2011-03-01</td>\n",
       "      <td>...</td>\n",
       "      <td>0.0</td>\n",
       "      <td>0.0</td>\n",
       "      <td>1800000.0</td>\n",
       "      <td>0.0</td>\n",
       "      <td>0.0</td>\n",
       "      <td>0.0</td>\n",
       "      <td>0.0</td>\n",
       "      <td>0.0</td>\n",
       "      <td>0.0</td>\n",
       "      <td>0.0</td>\n",
       "    </tr>\n",
       "    <tr>\n",
       "      <th>49412</th>\n",
       "      <td>Zygo Corporation</td>\n",
       "      <td>Manufacturing</td>\n",
       "      <td>9000000</td>\n",
       "      <td>NaN</td>\n",
       "      <td>USA</td>\n",
       "      <td>CT</td>\n",
       "      <td>CT - Other</td>\n",
       "      <td>Middlefield</td>\n",
       "      <td>1.0</td>\n",
       "      <td>NaN</td>\n",
       "      <td>...</td>\n",
       "      <td>0.0</td>\n",
       "      <td>0.0</td>\n",
       "      <td>0.0</td>\n",
       "      <td>0.0</td>\n",
       "      <td>0.0</td>\n",
       "      <td>0.0</td>\n",
       "      <td>0.0</td>\n",
       "      <td>0.0</td>\n",
       "      <td>0.0</td>\n",
       "      <td>0.0</td>\n",
       "    </tr>\n",
       "  </tbody>\n",
       "</table>\n",
       "<p>1105 rows × 36 columns</p>\n",
       "</div>"
      ],
      "text/plain": [
       "                       name                market  funding_total_usd status  \\\n",
       "5             .Club Domains             Software             7000000    NaN   \n",
       "67               1C Company             Software           200000000    NaN   \n",
       "89     1st Merchant Funding   Financial Services            10000000    NaN   \n",
       "433           99 Fahrenheit              Finance             1380700    NaN   \n",
       "465             A Bit Lucky         Social Games            10312103    NaN   \n",
       "...                     ...                   ...                ...    ...   \n",
       "49131                Ziftit      Gift Registries             4000000    NaN   \n",
       "49175               Zingaya            Messaging             1150000    NaN   \n",
       "49248                Zocere        Biotechnology              100000    NaN   \n",
       "49289                Zookal           E-Commerce             2060000    NaN   \n",
       "49412      Zygo Corporation        Manufacturing             9000000    NaN   \n",
       "\n",
       "      country_code state_code          region          city  funding_rounds  \\\n",
       "5              USA         FL  Ft. Lauderdale  Oakland Park             1.0   \n",
       "67             RUS        NaN          Moscow        Moscow             1.0   \n",
       "89             USA         FL           Miami         Miami             1.0   \n",
       "433            ITA        NaN           Milan         Milan             1.0   \n",
       "465            USA         CA     SF Bay Area     San Mateo             2.0   \n",
       "...            ...        ...             ...           ...             ...   \n",
       "49131          USA         CA       San Diego     San Diego             1.0   \n",
       "49175          USA         CA     SF Bay Area     Palo Alto             1.0   \n",
       "49248          NaN        NaN             NaN           NaN             1.0   \n",
       "49289          AUS        NaN          Sydney        Sydney             3.0   \n",
       "49412          USA         CT      CT - Other   Middlefield             1.0   \n",
       "\n",
       "       founded_at  ... secondary_market product_crowdfunding    round_A  \\\n",
       "5      2011-10-10  ...              0.0                  0.0        0.0   \n",
       "67     1991-01-01  ...              0.0                  0.0        0.0   \n",
       "89     2007-01-01  ...              0.0                  0.0        0.0   \n",
       "433    2011-10-01  ...              0.0                  0.0        0.0   \n",
       "465    2009-10-01  ...              0.0                  0.0        0.0   \n",
       "...           ...  ...              ...                  ...        ...   \n",
       "49131  2011-02-01  ...              0.0                  0.0        0.0   \n",
       "49175  2010-06-01  ...              0.0                  0.0  1150000.0   \n",
       "49248  2012-01-01  ...              0.0                  0.0        0.0   \n",
       "49289  2011-03-01  ...              0.0                  0.0  1800000.0   \n",
       "49412         NaN  ...              0.0                  0.0        0.0   \n",
       "\n",
       "         round_B round_C  round_D  round_E  round_F  round_G  round_H  \n",
       "5      7000000.0     0.0      0.0      0.0      0.0      0.0      0.0  \n",
       "67           0.0     0.0      0.0      0.0      0.0      0.0      0.0  \n",
       "89           0.0     0.0      0.0      0.0      0.0      0.0      0.0  \n",
       "433          0.0     0.0      0.0      0.0      0.0      0.0      0.0  \n",
       "465          0.0     0.0      0.0      0.0      0.0      0.0      0.0  \n",
       "...          ...     ...      ...      ...      ...      ...      ...  \n",
       "49131        0.0     0.0      0.0      0.0      0.0      0.0      0.0  \n",
       "49175        0.0     0.0      0.0      0.0      0.0      0.0      0.0  \n",
       "49248        0.0     0.0      0.0      0.0      0.0      0.0      0.0  \n",
       "49289        0.0     0.0      0.0      0.0      0.0      0.0      0.0  \n",
       "49412        0.0     0.0      0.0      0.0      0.0      0.0      0.0  \n",
       "\n",
       "[1105 rows x 36 columns]"
      ]
     },
     "execution_count": 22,
     "metadata": {},
     "output_type": "execute_result"
    }
   ],
   "source": [
    "nan_status_data = dff[dff['status'].isna()]\n",
    "nan_status_data "
   ]
  },
  {
   "cell_type": "code",
   "execution_count": 23,
   "id": "1555c209-9d5f-4a5d-8903-cb219cd6479e",
   "metadata": {},
   "outputs": [],
   "source": [
    "# Status done "
   ]
  },
  {
   "cell_type": "code",
   "execution_count": 24,
   "id": "388047d5-0530-4e33-962b-b48af5122aa3",
   "metadata": {},
   "outputs": [],
   "source": [
    "# Use .loc[] to avoid the warning\n",
    "dff.loc[:, 'status'] = dff['status'].fillna('Unknown')\n",
    "\n"
   ]
  },
  {
   "cell_type": "code",
   "execution_count": 25,
   "id": "ed1846e7-b76a-4f41-81d4-bc63875539fa",
   "metadata": {},
   "outputs": [
    {
     "name": "stdout",
     "output_type": "stream",
     "text": [
      "0\n"
     ]
    }
   ],
   "source": [
    "print(dff['status'].isna().sum())"
   ]
  },
  {
   "cell_type": "code",
   "execution_count": 26,
   "id": "78c66e08-83ba-48ac-ace7-ef7e11ffc3d3",
   "metadata": {},
   "outputs": [
    {
     "data": {
      "text/plain": [
       "Index(['name', 'market', 'funding_total_usd', 'status', 'country_code',\n",
       "       'state_code', 'region', 'city', 'funding_rounds', 'founded_at',\n",
       "       'founded_month', 'founded_quarter', 'founded_year', 'first_funding_at',\n",
       "       'last_funding_at', 'seed', 'venture', 'equity_crowdfunding',\n",
       "       'undisclosed', 'convertible_note', 'debt_financing', 'angel', 'grant',\n",
       "       'private_equity', 'post_ipo_equity', 'post_ipo_debt',\n",
       "       'secondary_market', 'product_crowdfunding', 'round_A', 'round_B',\n",
       "       'round_C', 'round_D', 'round_E', 'round_F', 'round_G', 'round_H'],\n",
       "      dtype='object')"
      ]
     },
     "execution_count": 26,
     "metadata": {},
     "output_type": "execute_result"
    }
   ],
   "source": [
    "dff.columns"
   ]
  },
  {
   "cell_type": "code",
   "execution_count": 27,
   "id": "e30585d1-2140-4cbc-af86-9da184d3b918",
   "metadata": {},
   "outputs": [],
   "source": [
    "# company founded columns "
   ]
  },
  {
   "cell_type": "code",
   "execution_count": 28,
   "id": "df470526-2559-40a3-ba05-bcb8b17b7782",
   "metadata": {},
   "outputs": [
    {
     "name": "stderr",
     "output_type": "stream",
     "text": [
      "C:\\Users\\SAGA\\AppData\\Local\\Temp\\ipykernel_16180\\412048661.py:3: FutureWarning: Setting an item of incompatible dtype is deprecated and will raise in a future error of pandas. Value 'None' has dtype incompatible with float64, please explicitly cast to a compatible dtype first.\n",
      "  dff.loc[:, ['founded_month', 'founded_quarter', 'founded_year']] = None\n"
     ]
    }
   ],
   "source": [
    "#  dff.drop(['founded_month', 'founded_quarter', 'founded_year'], axis=1, inplace=True)\n",
    "#  Cause i  feel  only  year and  mnonth  is enough to  show the trends\\\n",
    "dff.loc[:, ['founded_month', 'founded_quarter', 'founded_year']] = None\n"
   ]
  },
  {
   "cell_type": "code",
   "execution_count": 29,
   "id": "a7c75117-a589-4f34-b996-60e86e6c553a",
   "metadata": {},
   "outputs": [],
   "source": [
    "dff.drop(['founded_month', 'founded_quarter', 'founded_year'], axis=1, inplace=True)\n"
   ]
  },
  {
   "cell_type": "code",
   "execution_count": 30,
   "id": "18711905-cd13-4ac0-b9a6-e8eb0dd7c957",
   "metadata": {},
   "outputs": [],
   "source": [
    "dff['founded_at'] = pd.to_datetime(dff['founded_at'], errors='coerce')\n"
   ]
  },
  {
   "cell_type": "code",
   "execution_count": 31,
   "id": "8851db9d-f7f4-4950-bcd4-439852eecb97",
   "metadata": {},
   "outputs": [],
   "source": [
    "dff['founded_month'] = dff['founded_at'].dt.month"
   ]
  },
  {
   "cell_type": "code",
   "execution_count": 32,
   "id": "3e5a7ecb-e528-4186-be51-49b85657baff",
   "metadata": {},
   "outputs": [],
   "source": [
    "dff['founded_year'] = dff['founded_at'].dt.year"
   ]
  },
  {
   "cell_type": "code",
   "execution_count": 33,
   "id": "4ed60c5c-75e6-4f8d-a8d3-32bd654137ad",
   "metadata": {},
   "outputs": [
    {
     "data": {
      "text/plain": [
       "np.int64(8707)"
      ]
     },
     "execution_count": 33,
     "metadata": {},
     "output_type": "execute_result"
    }
   ],
   "source": [
    "dff['founded_year'].isnull().sum() ##  there are null  and we can not  imputea s there atre 29%  of null valuew  so  its better to  keep  it  unknown  "
   ]
  },
  {
   "cell_type": "code",
   "execution_count": 34,
   "id": "1b86f118-dd24-4bf4-b493-e2bff253eba6",
   "metadata": {},
   "outputs": [
    {
     "data": {
      "text/plain": [
       "0        2012.0\n",
       "1           NaN\n",
       "2        2012.0\n",
       "3        2011.0\n",
       "4        2014.0\n",
       "          ...  \n",
       "49433    2013.0\n",
       "49434       NaN\n",
       "49435    2012.0\n",
       "49436       NaN\n",
       "49437    1999.0\n",
       "Name: founded_year, Length: 40906, dtype: float64"
      ]
     },
     "execution_count": 34,
     "metadata": {},
     "output_type": "execute_result"
    }
   ],
   "source": [
    "#dff['founded_year'].fillna(\"0\") \n",
    "dff['founded_year']"
   ]
  },
  {
   "cell_type": "code",
   "execution_count": 35,
   "id": "7693a7a5-af64-45b5-9646-9ffda09e20c4",
   "metadata": {},
   "outputs": [],
   "source": [
    "dff['founded_year']=dff[\"funding_rounds\"].isnull().sum() # clear"
   ]
  },
  {
   "cell_type": "code",
   "execution_count": 36,
   "id": "adda5ec2-294f-41a3-bc83-7963bcaa19f4",
   "metadata": {},
   "outputs": [
    {
     "data": {
      "text/plain": [
       "np.int64(8707)"
      ]
     },
     "execution_count": 36,
     "metadata": {},
     "output_type": "execute_result"
    }
   ],
   "source": [
    "dff[\"founded_at\"].isnull().sum()"
   ]
  },
  {
   "cell_type": "code",
   "execution_count": 37,
   "id": "e02cae8a-76bd-4883-a52c-a24cb560d83d",
   "metadata": {},
   "outputs": [],
   "source": [
    "# Checking for othere  columns"
   ]
  },
  {
   "cell_type": "code",
   "execution_count": 38,
   "id": "260758e7-21f4-4e31-a76b-08e5570d4691",
   "metadata": {},
   "outputs": [
    {
     "data": {
      "text/plain": [
       "np.int64(0)"
      ]
     },
     "execution_count": 38,
     "metadata": {},
     "output_type": "execute_result"
    }
   ],
   "source": [
    "\n",
    "dff[\"first_funding_at\"].isnull().sum()"
   ]
  },
  {
   "cell_type": "code",
   "execution_count": 39,
   "id": "8db9d8c5-a8c7-4d17-92ee-1371a5069a93",
   "metadata": {},
   "outputs": [],
   "source": [
    "#dff['first_funding_at']=dff['first_funding_at'].astype(int)"
   ]
  },
  {
   "cell_type": "code",
   "execution_count": null,
   "id": "0e4f61cd-c2e1-4ddf-af8b-dcd8e7476718",
   "metadata": {},
   "outputs": [],
   "source": []
  },
  {
   "cell_type": "code",
   "execution_count": 40,
   "id": "4c10eaf1-25e7-4a6b-9ee7-b3e341f3cda7",
   "metadata": {},
   "outputs": [],
   "source": [
    "# WE  vchange the  first funded at and last funded at  in datae time   stsype as there no  mising  values   and string  we acn   extract  month year while eda "
   ]
  },
  {
   "cell_type": "code",
   "execution_count": 41,
   "id": "711dca60-0d77-4789-87e2-02dfb1f3c534",
   "metadata": {},
   "outputs": [],
   "source": [
    "dff[[\"first_funding_at\", \"last_funding_at\"]] = dff[[\"first_funding_at\", \"last_funding_at\"]].apply(pd.to_datetime, errors='coerce')\n"
   ]
  },
  {
   "cell_type": "code",
   "execution_count": 42,
   "id": "6ff0b287-da79-47ad-be1a-dda29c7e048e",
   "metadata": {},
   "outputs": [
    {
     "data": {
      "text/plain": [
       "dtype('<M8[ns]')"
      ]
     },
     "execution_count": 42,
     "metadata": {},
     "output_type": "execute_result"
    }
   ],
   "source": [
    "dff[\"first_funding_at\"].dtype"
   ]
  },
  {
   "cell_type": "code",
   "execution_count": 43,
   "id": "964e9b86-3ea0-4d8e-ae2e-ef2be4f965d1",
   "metadata": {},
   "outputs": [
    {
     "data": {
      "text/plain": [
       "np.int64(0)"
      ]
     },
     "execution_count": 43,
     "metadata": {},
     "output_type": "execute_result"
    }
   ],
   "source": [
    "dff[\"seed\"].isnull().sum()"
   ]
  },
  {
   "cell_type": "code",
   "execution_count": 44,
   "id": "af6430cd-b0d9-4d22-b483-891730455561",
   "metadata": {},
   "outputs": [
    {
     "data": {
      "text/plain": [
       "np.int64(0)"
      ]
     },
     "execution_count": 44,
     "metadata": {},
     "output_type": "execute_result"
    }
   ],
   "source": [
    "dff[\"funding_total_usd\"].isnull().sum()"
   ]
  },
  {
   "cell_type": "code",
   "execution_count": 45,
   "id": "84f190a9-58f0-46cb-8acd-31c8cf3797a7",
   "metadata": {},
   "outputs": [
    {
     "name": "stdout",
     "output_type": "stream",
     "text": [
      "Missing values in 'funding_total_usd': 0\n",
      "Missing values in 'seed': 0\n",
      "Missing values in 'venture': 0\n",
      "Missing values in 'equity_crowdfunding': 0\n",
      "Missing values in 'undisclosed': 0\n",
      "Missing values in 'convertible_note': 0\n",
      "Missing values in 'debt_financing': 0\n",
      "Missing values in 'angel': 0\n",
      "Missing values in 'grant': 0\n",
      "Missing values in 'private_equity': 0\n",
      "Missing values in 'post_ipo_equity': 0\n",
      "Missing values in 'post_ipo_debt': 0\n",
      "Missing values in 'secondary_market': 0\n",
      "Missing values in 'product_crowdfunding': 0\n"
     ]
    }
   ],
   "source": [
    "funding_cols = [\"funding_total_usd\", \"seed\", \"venture\", \"equity_crowdfunding\", \"undisclosed\", \n",
    "                \"convertible_note\", \"debt_financing\", \"angel\", \"grant\", \"private_equity\", \n",
    "                \"post_ipo_equity\", \"post_ipo_debt\", \"secondary_market\", \"product_crowdfunding\"]\n",
    "\n",
    "for col in funding_cols:\n",
    "    print(f\"Missing values in '{col}':\", dff[col].isnull().sum())\n"
   ]
  },
  {
   "cell_type": "code",
   "execution_count": 46,
   "id": "1c06c17a-3666-4732-873d-687e227b71ee",
   "metadata": {},
   "outputs": [
    {
     "data": {
      "text/plain": [
       "np.int64(0)"
      ]
     },
     "execution_count": 46,
     "metadata": {},
     "output_type": "execute_result"
    }
   ],
   "source": [
    "dff[\"round_A\"].isnull().sum()"
   ]
  },
  {
   "cell_type": "code",
   "execution_count": 47,
   "id": "2318c52b-5b24-4854-ac8a-8997c997c991",
   "metadata": {},
   "outputs": [
    {
     "data": {
      "text/plain": [
       "array([      0., 2000000., 4000000., ..., 7991547., 2686600., 1587301.],\n",
       "      shape=(2035,))"
      ]
     },
     "execution_count": 47,
     "metadata": {},
     "output_type": "execute_result"
    }
   ],
   "source": [
    "dff[\"round_A\"].unique()"
   ]
  },
  {
   "cell_type": "code",
   "execution_count": 48,
   "id": "ebe5dba3-7bc0-4eb7-b3b0-a72a69a46063",
   "metadata": {},
   "outputs": [
    {
     "data": {
      "text/plain": [
       "np.int64(0)"
      ]
     },
     "execution_count": 48,
     "metadata": {},
     "output_type": "execute_result"
    }
   ],
   "source": [
    "dff[\"round_B\"].isnull().sum()"
   ]
  },
  {
   "cell_type": "code",
   "execution_count": 49,
   "id": "4e9047e3-44ee-47b6-acea-d08f54a97866",
   "metadata": {},
   "outputs": [
    {
     "name": "stdout",
     "output_type": "stream",
     "text": [
      "Missing values in 'round_C': 0\n",
      "Missing values in 'round_D': 0\n",
      "Missing values in 'round_E': 0\n",
      "Missing values in 'round_F': 0\n",
      "Missing values in 'round_G': 0\n",
      "Missing values in 'round_H': 0\n"
     ]
    }
   ],
   "source": [
    "funding_cols = [\"round_C\", \"round_D\", \"round_E\", \"round_F\", \"round_G\", \"round_H\"]\n",
    "for col in funding_cols:\n",
    "    print(f\"Missing values in '{col}':\", dff[col].isnull().sum())"
   ]
  },
  {
   "cell_type": "code",
   "execution_count": 50,
   "id": "e7e3abef-bfab-4064-aa6a-ce21c0ef90b3",
   "metadata": {},
   "outputs": [
    {
     "data": {
      "text/plain": [
       "np.int64(0)"
      ]
     },
     "execution_count": 50,
     "metadata": {},
     "output_type": "execute_result"
    }
   ],
   "source": [
    "dff[\"funding_total_usd\"].isnull().sum()"
   ]
  },
  {
   "cell_type": "code",
   "execution_count": 51,
   "id": "6410c28c-a3f3-48a3-874c-e675604ca0dc",
   "metadata": {},
   "outputs": [],
   "source": [
    "## rest  else columns are  good  to go as  there are  no nan values "
   ]
  },
  {
   "cell_type": "code",
   "execution_count": 52,
   "id": "9bb65ad1-57b5-49f9-a5ac-aa4883c106b3",
   "metadata": {},
   "outputs": [
    {
     "name": "stdout",
     "output_type": "stream",
     "text": [
      "<class 'pandas.core.frame.DataFrame'>\n",
      "Index: 40906 entries, 0 to 49437\n",
      "Data columns (total 35 columns):\n",
      " #   Column                Non-Null Count  Dtype         \n",
      "---  ------                --------------  -----         \n",
      " 0   name                  40906 non-null  object        \n",
      " 1   market                38398 non-null  object        \n",
      " 2   funding_total_usd     40906 non-null  int64         \n",
      " 3   status                40906 non-null  object        \n",
      " 4   country_code          37088 non-null  object        \n",
      " 5   state_code            25619 non-null  object        \n",
      " 6   region                37088 non-null  object        \n",
      " 7   city                  36402 non-null  object        \n",
      " 8   funding_rounds        40906 non-null  float64       \n",
      " 9   founded_at            32199 non-null  datetime64[ns]\n",
      " 10  first_funding_at      40904 non-null  datetime64[ns]\n",
      " 11  last_funding_at       40906 non-null  datetime64[ns]\n",
      " 12  seed                  40906 non-null  float64       \n",
      " 13  venture               40906 non-null  float64       \n",
      " 14  equity_crowdfunding   40906 non-null  float64       \n",
      " 15  undisclosed           40906 non-null  float64       \n",
      " 16  convertible_note      40906 non-null  float64       \n",
      " 17  debt_financing        40906 non-null  float64       \n",
      " 18  angel                 40906 non-null  float64       \n",
      " 19  grant                 40906 non-null  float64       \n",
      " 20  private_equity        40906 non-null  float64       \n",
      " 21  post_ipo_equity       40906 non-null  float64       \n",
      " 22  post_ipo_debt         40906 non-null  float64       \n",
      " 23  secondary_market      40906 non-null  float64       \n",
      " 24  product_crowdfunding  40906 non-null  float64       \n",
      " 25  round_A               40906 non-null  float64       \n",
      " 26  round_B               40906 non-null  float64       \n",
      " 27  round_C               40906 non-null  float64       \n",
      " 28  round_D               40906 non-null  float64       \n",
      " 29  round_E               40906 non-null  float64       \n",
      " 30  round_F               40906 non-null  float64       \n",
      " 31  round_G               40906 non-null  float64       \n",
      " 32  round_H               40906 non-null  float64       \n",
      " 33  founded_month         32199 non-null  float64       \n",
      " 34  founded_year          40906 non-null  int64         \n",
      "dtypes: datetime64[ns](3), float64(23), int64(2), object(7)\n",
      "memory usage: 11.2+ MB\n"
     ]
    }
   ],
   "source": [
    "dff.info()"
   ]
  },
  {
   "cell_type": "code",
   "execution_count": 53,
   "id": "94489b86-c701-4319-803e-669f2c55d929",
   "metadata": {},
   "outputs": [],
   "source": [
    "dff.fillna({\n",
    "    \"country_code\": \"Unknown\",\n",
    "    \"state_code\": \"Unknown\",\n",
    "    \"city\": \"Unknown\",\n",
    "    \"region\" : \"Unknown\"\n",
    "}, inplace=True)"
   ]
  },
  {
   "cell_type": "code",
   "execution_count": 54,
   "id": "0be27276-47ef-41f1-a954-9b600e040e46",
   "metadata": {},
   "outputs": [
    {
     "data": {
      "text/html": [
       "<div>\n",
       "<style scoped>\n",
       "    .dataframe tbody tr th:only-of-type {\n",
       "        vertical-align: middle;\n",
       "    }\n",
       "\n",
       "    .dataframe tbody tr th {\n",
       "        vertical-align: top;\n",
       "    }\n",
       "\n",
       "    .dataframe thead th {\n",
       "        text-align: right;\n",
       "    }\n",
       "</style>\n",
       "<table border=\"1\" class=\"dataframe\">\n",
       "  <thead>\n",
       "    <tr style=\"text-align: right;\">\n",
       "      <th></th>\n",
       "      <th>name</th>\n",
       "      <th>market</th>\n",
       "      <th>funding_total_usd</th>\n",
       "      <th>status</th>\n",
       "      <th>country_code</th>\n",
       "      <th>state_code</th>\n",
       "      <th>region</th>\n",
       "      <th>city</th>\n",
       "      <th>funding_rounds</th>\n",
       "      <th>founded_at</th>\n",
       "      <th>...</th>\n",
       "      <th>round_A</th>\n",
       "      <th>round_B</th>\n",
       "      <th>round_C</th>\n",
       "      <th>round_D</th>\n",
       "      <th>round_E</th>\n",
       "      <th>round_F</th>\n",
       "      <th>round_G</th>\n",
       "      <th>round_H</th>\n",
       "      <th>founded_month</th>\n",
       "      <th>founded_year</th>\n",
       "    </tr>\n",
       "  </thead>\n",
       "  <tbody>\n",
       "    <tr>\n",
       "      <th>0</th>\n",
       "      <td>#waywire</td>\n",
       "      <td>News</td>\n",
       "      <td>1750000</td>\n",
       "      <td>acquired</td>\n",
       "      <td>USA</td>\n",
       "      <td>NY</td>\n",
       "      <td>New York City</td>\n",
       "      <td>New York</td>\n",
       "      <td>1.0</td>\n",
       "      <td>2012-06-01</td>\n",
       "      <td>...</td>\n",
       "      <td>0.0</td>\n",
       "      <td>0.0</td>\n",
       "      <td>0.0</td>\n",
       "      <td>0.0</td>\n",
       "      <td>0.0</td>\n",
       "      <td>0.0</td>\n",
       "      <td>0.0</td>\n",
       "      <td>0.0</td>\n",
       "      <td>6.0</td>\n",
       "      <td>0</td>\n",
       "    </tr>\n",
       "    <tr>\n",
       "      <th>1</th>\n",
       "      <td>&amp;TV Communications</td>\n",
       "      <td>Games</td>\n",
       "      <td>4000000</td>\n",
       "      <td>operating</td>\n",
       "      <td>USA</td>\n",
       "      <td>CA</td>\n",
       "      <td>Los Angeles</td>\n",
       "      <td>Los Angeles</td>\n",
       "      <td>2.0</td>\n",
       "      <td>NaT</td>\n",
       "      <td>...</td>\n",
       "      <td>0.0</td>\n",
       "      <td>0.0</td>\n",
       "      <td>0.0</td>\n",
       "      <td>0.0</td>\n",
       "      <td>0.0</td>\n",
       "      <td>0.0</td>\n",
       "      <td>0.0</td>\n",
       "      <td>0.0</td>\n",
       "      <td>NaN</td>\n",
       "      <td>0</td>\n",
       "    </tr>\n",
       "    <tr>\n",
       "      <th>2</th>\n",
       "      <td>'Rock' Your Paper</td>\n",
       "      <td>Publishing</td>\n",
       "      <td>40000</td>\n",
       "      <td>operating</td>\n",
       "      <td>EST</td>\n",
       "      <td>Unknown</td>\n",
       "      <td>Tallinn</td>\n",
       "      <td>Tallinn</td>\n",
       "      <td>1.0</td>\n",
       "      <td>2012-10-26</td>\n",
       "      <td>...</td>\n",
       "      <td>0.0</td>\n",
       "      <td>0.0</td>\n",
       "      <td>0.0</td>\n",
       "      <td>0.0</td>\n",
       "      <td>0.0</td>\n",
       "      <td>0.0</td>\n",
       "      <td>0.0</td>\n",
       "      <td>0.0</td>\n",
       "      <td>10.0</td>\n",
       "      <td>0</td>\n",
       "    </tr>\n",
       "    <tr>\n",
       "      <th>3</th>\n",
       "      <td>(In)Touch Network</td>\n",
       "      <td>Electronics</td>\n",
       "      <td>1500000</td>\n",
       "      <td>operating</td>\n",
       "      <td>GBR</td>\n",
       "      <td>Unknown</td>\n",
       "      <td>London</td>\n",
       "      <td>London</td>\n",
       "      <td>1.0</td>\n",
       "      <td>2011-04-01</td>\n",
       "      <td>...</td>\n",
       "      <td>0.0</td>\n",
       "      <td>0.0</td>\n",
       "      <td>0.0</td>\n",
       "      <td>0.0</td>\n",
       "      <td>0.0</td>\n",
       "      <td>0.0</td>\n",
       "      <td>0.0</td>\n",
       "      <td>0.0</td>\n",
       "      <td>4.0</td>\n",
       "      <td>0</td>\n",
       "    </tr>\n",
       "    <tr>\n",
       "      <th>4</th>\n",
       "      <td>-R- Ranch and Mine</td>\n",
       "      <td>Tourism</td>\n",
       "      <td>60000</td>\n",
       "      <td>operating</td>\n",
       "      <td>USA</td>\n",
       "      <td>TX</td>\n",
       "      <td>Dallas</td>\n",
       "      <td>Fort Worth</td>\n",
       "      <td>2.0</td>\n",
       "      <td>2014-01-01</td>\n",
       "      <td>...</td>\n",
       "      <td>0.0</td>\n",
       "      <td>0.0</td>\n",
       "      <td>0.0</td>\n",
       "      <td>0.0</td>\n",
       "      <td>0.0</td>\n",
       "      <td>0.0</td>\n",
       "      <td>0.0</td>\n",
       "      <td>0.0</td>\n",
       "      <td>1.0</td>\n",
       "      <td>0</td>\n",
       "    </tr>\n",
       "    <tr>\n",
       "      <th>...</th>\n",
       "      <td>...</td>\n",
       "      <td>...</td>\n",
       "      <td>...</td>\n",
       "      <td>...</td>\n",
       "      <td>...</td>\n",
       "      <td>...</td>\n",
       "      <td>...</td>\n",
       "      <td>...</td>\n",
       "      <td>...</td>\n",
       "      <td>...</td>\n",
       "      <td>...</td>\n",
       "      <td>...</td>\n",
       "      <td>...</td>\n",
       "      <td>...</td>\n",
       "      <td>...</td>\n",
       "      <td>...</td>\n",
       "      <td>...</td>\n",
       "      <td>...</td>\n",
       "      <td>...</td>\n",
       "      <td>...</td>\n",
       "      <td>...</td>\n",
       "    </tr>\n",
       "    <tr>\n",
       "      <th>49433</th>\n",
       "      <td>Zzish</td>\n",
       "      <td>Education</td>\n",
       "      <td>320000</td>\n",
       "      <td>operating</td>\n",
       "      <td>GBR</td>\n",
       "      <td>Unknown</td>\n",
       "      <td>London</td>\n",
       "      <td>London</td>\n",
       "      <td>1.0</td>\n",
       "      <td>2013-01-28</td>\n",
       "      <td>...</td>\n",
       "      <td>0.0</td>\n",
       "      <td>0.0</td>\n",
       "      <td>0.0</td>\n",
       "      <td>0.0</td>\n",
       "      <td>0.0</td>\n",
       "      <td>0.0</td>\n",
       "      <td>0.0</td>\n",
       "      <td>0.0</td>\n",
       "      <td>1.0</td>\n",
       "      <td>0</td>\n",
       "    </tr>\n",
       "    <tr>\n",
       "      <th>49434</th>\n",
       "      <td>ZZNode Science and Technology</td>\n",
       "      <td>Enterprise Software</td>\n",
       "      <td>1587301</td>\n",
       "      <td>operating</td>\n",
       "      <td>CHN</td>\n",
       "      <td>Unknown</td>\n",
       "      <td>Beijing</td>\n",
       "      <td>Beijing</td>\n",
       "      <td>1.0</td>\n",
       "      <td>NaT</td>\n",
       "      <td>...</td>\n",
       "      <td>1587301.0</td>\n",
       "      <td>0.0</td>\n",
       "      <td>0.0</td>\n",
       "      <td>0.0</td>\n",
       "      <td>0.0</td>\n",
       "      <td>0.0</td>\n",
       "      <td>0.0</td>\n",
       "      <td>0.0</td>\n",
       "      <td>NaN</td>\n",
       "      <td>0</td>\n",
       "    </tr>\n",
       "    <tr>\n",
       "      <th>49435</th>\n",
       "      <td>Zzzzapp Wireless ltd.</td>\n",
       "      <td>Web Development</td>\n",
       "      <td>97398</td>\n",
       "      <td>operating</td>\n",
       "      <td>HRV</td>\n",
       "      <td>Unknown</td>\n",
       "      <td>Split</td>\n",
       "      <td>Split</td>\n",
       "      <td>5.0</td>\n",
       "      <td>2012-05-13</td>\n",
       "      <td>...</td>\n",
       "      <td>0.0</td>\n",
       "      <td>0.0</td>\n",
       "      <td>0.0</td>\n",
       "      <td>0.0</td>\n",
       "      <td>0.0</td>\n",
       "      <td>0.0</td>\n",
       "      <td>0.0</td>\n",
       "      <td>0.0</td>\n",
       "      <td>5.0</td>\n",
       "      <td>0</td>\n",
       "    </tr>\n",
       "    <tr>\n",
       "      <th>49436</th>\n",
       "      <td>[a]list games</td>\n",
       "      <td>Games</td>\n",
       "      <td>9300000</td>\n",
       "      <td>operating</td>\n",
       "      <td>Unknown</td>\n",
       "      <td>Unknown</td>\n",
       "      <td>Unknown</td>\n",
       "      <td>Unknown</td>\n",
       "      <td>1.0</td>\n",
       "      <td>NaT</td>\n",
       "      <td>...</td>\n",
       "      <td>0.0</td>\n",
       "      <td>0.0</td>\n",
       "      <td>0.0</td>\n",
       "      <td>0.0</td>\n",
       "      <td>0.0</td>\n",
       "      <td>0.0</td>\n",
       "      <td>0.0</td>\n",
       "      <td>0.0</td>\n",
       "      <td>NaN</td>\n",
       "      <td>0</td>\n",
       "    </tr>\n",
       "    <tr>\n",
       "      <th>49437</th>\n",
       "      <td>[x+1]</td>\n",
       "      <td>Enterprise Software</td>\n",
       "      <td>45000000</td>\n",
       "      <td>operating</td>\n",
       "      <td>USA</td>\n",
       "      <td>NY</td>\n",
       "      <td>New York City</td>\n",
       "      <td>New York</td>\n",
       "      <td>4.0</td>\n",
       "      <td>1999-01-01</td>\n",
       "      <td>...</td>\n",
       "      <td>16000000.0</td>\n",
       "      <td>10000000.0</td>\n",
       "      <td>0.0</td>\n",
       "      <td>0.0</td>\n",
       "      <td>0.0</td>\n",
       "      <td>0.0</td>\n",
       "      <td>0.0</td>\n",
       "      <td>0.0</td>\n",
       "      <td>1.0</td>\n",
       "      <td>0</td>\n",
       "    </tr>\n",
       "  </tbody>\n",
       "</table>\n",
       "<p>40906 rows × 35 columns</p>\n",
       "</div>"
      ],
      "text/plain": [
       "                                name                 market  \\\n",
       "0                           #waywire                  News    \n",
       "1                 &TV Communications                 Games    \n",
       "2                  'Rock' Your Paper            Publishing    \n",
       "3                  (In)Touch Network           Electronics    \n",
       "4                 -R- Ranch and Mine               Tourism    \n",
       "...                              ...                    ...   \n",
       "49433                          Zzish             Education    \n",
       "49434  ZZNode Science and Technology   Enterprise Software    \n",
       "49435          Zzzzapp Wireless ltd.       Web Development    \n",
       "49436                  [a]list games                 Games    \n",
       "49437                          [x+1]   Enterprise Software    \n",
       "\n",
       "       funding_total_usd     status country_code state_code         region  \\\n",
       "0                1750000   acquired          USA         NY  New York City   \n",
       "1                4000000  operating          USA         CA    Los Angeles   \n",
       "2                  40000  operating          EST    Unknown        Tallinn   \n",
       "3                1500000  operating          GBR    Unknown         London   \n",
       "4                  60000  operating          USA         TX         Dallas   \n",
       "...                  ...        ...          ...        ...            ...   \n",
       "49433             320000  operating          GBR    Unknown         London   \n",
       "49434            1587301  operating          CHN    Unknown        Beijing   \n",
       "49435              97398  operating          HRV    Unknown          Split   \n",
       "49436            9300000  operating      Unknown    Unknown        Unknown   \n",
       "49437           45000000  operating          USA         NY  New York City   \n",
       "\n",
       "              city  funding_rounds founded_at  ...     round_A     round_B  \\\n",
       "0         New York             1.0 2012-06-01  ...         0.0         0.0   \n",
       "1      Los Angeles             2.0        NaT  ...         0.0         0.0   \n",
       "2          Tallinn             1.0 2012-10-26  ...         0.0         0.0   \n",
       "3           London             1.0 2011-04-01  ...         0.0         0.0   \n",
       "4       Fort Worth             2.0 2014-01-01  ...         0.0         0.0   \n",
       "...            ...             ...        ...  ...         ...         ...   \n",
       "49433       London             1.0 2013-01-28  ...         0.0         0.0   \n",
       "49434      Beijing             1.0        NaT  ...   1587301.0         0.0   \n",
       "49435        Split             5.0 2012-05-13  ...         0.0         0.0   \n",
       "49436      Unknown             1.0        NaT  ...         0.0         0.0   \n",
       "49437     New York             4.0 1999-01-01  ...  16000000.0  10000000.0   \n",
       "\n",
       "       round_C  round_D  round_E  round_F  round_G  round_H  founded_month  \\\n",
       "0          0.0      0.0      0.0      0.0      0.0      0.0            6.0   \n",
       "1          0.0      0.0      0.0      0.0      0.0      0.0            NaN   \n",
       "2          0.0      0.0      0.0      0.0      0.0      0.0           10.0   \n",
       "3          0.0      0.0      0.0      0.0      0.0      0.0            4.0   \n",
       "4          0.0      0.0      0.0      0.0      0.0      0.0            1.0   \n",
       "...        ...      ...      ...      ...      ...      ...            ...   \n",
       "49433      0.0      0.0      0.0      0.0      0.0      0.0            1.0   \n",
       "49434      0.0      0.0      0.0      0.0      0.0      0.0            NaN   \n",
       "49435      0.0      0.0      0.0      0.0      0.0      0.0            5.0   \n",
       "49436      0.0      0.0      0.0      0.0      0.0      0.0            NaN   \n",
       "49437      0.0      0.0      0.0      0.0      0.0      0.0            1.0   \n",
       "\n",
       "       founded_year  \n",
       "0                 0  \n",
       "1                 0  \n",
       "2                 0  \n",
       "3                 0  \n",
       "4                 0  \n",
       "...             ...  \n",
       "49433             0  \n",
       "49434             0  \n",
       "49435             0  \n",
       "49436             0  \n",
       "49437             0  \n",
       "\n",
       "[40906 rows x 35 columns]"
      ]
     },
     "execution_count": 54,
     "metadata": {},
     "output_type": "execute_result"
    }
   ],
   "source": [
    "dff"
   ]
  },
  {
   "cell_type": "code",
   "execution_count": 55,
   "id": "04edb620-1e58-4c63-98a9-834baeed4036",
   "metadata": {},
   "outputs": [],
   "source": [
    "dff[\"founded_month\"] = dff[\"founded_month\"].round(0)\n"
   ]
  },
  {
   "cell_type": "code",
   "execution_count": 56,
   "id": "471e9681-127b-43b0-8cf3-24a6016152b9",
   "metadata": {},
   "outputs": [],
   "source": [
    "dff[\"founded_month\"] = dff[\"founded_month\"].fillna(0).astype(int)\n"
   ]
  },
  {
   "cell_type": "code",
   "execution_count": 57,
   "id": "98685aca-322c-4433-8343-450900d2d63a",
   "metadata": {},
   "outputs": [
    {
     "data": {
      "text/plain": [
       "dtype('int64')"
      ]
     },
     "execution_count": 57,
     "metadata": {},
     "output_type": "execute_result"
    }
   ],
   "source": [
    "dff[\"founded_month\"].dtype"
   ]
  },
  {
   "cell_type": "markdown",
   "id": "20be3787-8b8b-45dd-90f0-d88a9e2750d6",
   "metadata": {},
   "source": [
    "# NOTE:\n",
    "##  for  founded year  and Fiunded columns  there are  nan   values we  cant impute then  \n",
    "##  For   first funded and last funded   we can  extract   year  month  as needed in EDA "
   ]
  },
  {
   "cell_type": "code",
   "execution_count": 70,
   "id": "3a795465-e0d4-4c21-88c6-26d5c6f23d57",
   "metadata": {},
   "outputs": [],
   "source": [
    "# dff.to_csv(\"Startup_clean_file1.csv\",index=False)"
   ]
  },
  {
   "cell_type": "code",
   "execution_count": null,
   "id": "1042b58e-bc45-42fe-ad5b-c193c38abc39",
   "metadata": {},
   "outputs": [],
   "source": [
    "dff = dff.dropna(subset=[\"first_funding_at\"])\n"
   ]
  },
  {
   "cell_type": "code",
   "execution_count": null,
   "id": "fa48312e-cddb-4866-b7da-4d372bbb57ff",
   "metadata": {},
   "outputs": [],
   "source": [
    "dff[\"first_funding_at\"].isnull().sum()"
   ]
  },
  {
   "cell_type": "code",
   "execution_count": 59,
   "id": "566bb1bd-cb9f-4988-8e0f-026a3f3b9ad4",
   "metadata": {},
   "outputs": [],
   "source": [
    "df2=pd.read_csv(\"Startup_clean_file.csv\")"
   ]
  },
  {
   "cell_type": "code",
   "execution_count": 60,
   "id": "d8e62196-0a42-4491-81ca-c45d9c4cf054",
   "metadata": {},
   "outputs": [
    {
     "data": {
      "text/html": [
       "<div>\n",
       "<style scoped>\n",
       "    .dataframe tbody tr th:only-of-type {\n",
       "        vertical-align: middle;\n",
       "    }\n",
       "\n",
       "    .dataframe tbody tr th {\n",
       "        vertical-align: top;\n",
       "    }\n",
       "\n",
       "    .dataframe thead th {\n",
       "        text-align: right;\n",
       "    }\n",
       "</style>\n",
       "<table border=\"1\" class=\"dataframe\">\n",
       "  <thead>\n",
       "    <tr style=\"text-align: right;\">\n",
       "      <th></th>\n",
       "      <th>name</th>\n",
       "      <th>market</th>\n",
       "      <th>funding_total_usd</th>\n",
       "      <th>status</th>\n",
       "      <th>country_code</th>\n",
       "      <th>state_code</th>\n",
       "      <th>region</th>\n",
       "      <th>city</th>\n",
       "      <th>funding_rounds</th>\n",
       "      <th>founded_at</th>\n",
       "      <th>...</th>\n",
       "      <th>round_A</th>\n",
       "      <th>round_B</th>\n",
       "      <th>round_C</th>\n",
       "      <th>round_D</th>\n",
       "      <th>round_E</th>\n",
       "      <th>round_F</th>\n",
       "      <th>round_G</th>\n",
       "      <th>round_H</th>\n",
       "      <th>founded_month</th>\n",
       "      <th>founded_year</th>\n",
       "    </tr>\n",
       "  </thead>\n",
       "  <tbody>\n",
       "    <tr>\n",
       "      <th>0</th>\n",
       "      <td>#waywire</td>\n",
       "      <td>News</td>\n",
       "      <td>1750000</td>\n",
       "      <td>acquired</td>\n",
       "      <td>USA</td>\n",
       "      <td>NY</td>\n",
       "      <td>New York City</td>\n",
       "      <td>New York</td>\n",
       "      <td>1.0</td>\n",
       "      <td>2012-06-01</td>\n",
       "      <td>...</td>\n",
       "      <td>0.0</td>\n",
       "      <td>0.0</td>\n",
       "      <td>0.0</td>\n",
       "      <td>0.0</td>\n",
       "      <td>0.0</td>\n",
       "      <td>0.0</td>\n",
       "      <td>0.0</td>\n",
       "      <td>0.0</td>\n",
       "      <td>6.0</td>\n",
       "      <td>0</td>\n",
       "    </tr>\n",
       "    <tr>\n",
       "      <th>1</th>\n",
       "      <td>&amp;TV Communications</td>\n",
       "      <td>Games</td>\n",
       "      <td>4000000</td>\n",
       "      <td>operating</td>\n",
       "      <td>USA</td>\n",
       "      <td>CA</td>\n",
       "      <td>Los Angeles</td>\n",
       "      <td>Los Angeles</td>\n",
       "      <td>2.0</td>\n",
       "      <td>NaN</td>\n",
       "      <td>...</td>\n",
       "      <td>0.0</td>\n",
       "      <td>0.0</td>\n",
       "      <td>0.0</td>\n",
       "      <td>0.0</td>\n",
       "      <td>0.0</td>\n",
       "      <td>0.0</td>\n",
       "      <td>0.0</td>\n",
       "      <td>0.0</td>\n",
       "      <td>NaN</td>\n",
       "      <td>0</td>\n",
       "    </tr>\n",
       "    <tr>\n",
       "      <th>2</th>\n",
       "      <td>'Rock' Your Paper</td>\n",
       "      <td>Publishing</td>\n",
       "      <td>40000</td>\n",
       "      <td>operating</td>\n",
       "      <td>EST</td>\n",
       "      <td>NaN</td>\n",
       "      <td>Tallinn</td>\n",
       "      <td>Tallinn</td>\n",
       "      <td>1.0</td>\n",
       "      <td>2012-10-26</td>\n",
       "      <td>...</td>\n",
       "      <td>0.0</td>\n",
       "      <td>0.0</td>\n",
       "      <td>0.0</td>\n",
       "      <td>0.0</td>\n",
       "      <td>0.0</td>\n",
       "      <td>0.0</td>\n",
       "      <td>0.0</td>\n",
       "      <td>0.0</td>\n",
       "      <td>10.0</td>\n",
       "      <td>0</td>\n",
       "    </tr>\n",
       "    <tr>\n",
       "      <th>3</th>\n",
       "      <td>(In)Touch Network</td>\n",
       "      <td>Electronics</td>\n",
       "      <td>1500000</td>\n",
       "      <td>operating</td>\n",
       "      <td>GBR</td>\n",
       "      <td>NaN</td>\n",
       "      <td>London</td>\n",
       "      <td>London</td>\n",
       "      <td>1.0</td>\n",
       "      <td>2011-04-01</td>\n",
       "      <td>...</td>\n",
       "      <td>0.0</td>\n",
       "      <td>0.0</td>\n",
       "      <td>0.0</td>\n",
       "      <td>0.0</td>\n",
       "      <td>0.0</td>\n",
       "      <td>0.0</td>\n",
       "      <td>0.0</td>\n",
       "      <td>0.0</td>\n",
       "      <td>4.0</td>\n",
       "      <td>0</td>\n",
       "    </tr>\n",
       "    <tr>\n",
       "      <th>4</th>\n",
       "      <td>-R- Ranch and Mine</td>\n",
       "      <td>Tourism</td>\n",
       "      <td>60000</td>\n",
       "      <td>operating</td>\n",
       "      <td>USA</td>\n",
       "      <td>TX</td>\n",
       "      <td>Dallas</td>\n",
       "      <td>Fort Worth</td>\n",
       "      <td>2.0</td>\n",
       "      <td>2014-01-01</td>\n",
       "      <td>...</td>\n",
       "      <td>0.0</td>\n",
       "      <td>0.0</td>\n",
       "      <td>0.0</td>\n",
       "      <td>0.0</td>\n",
       "      <td>0.0</td>\n",
       "      <td>0.0</td>\n",
       "      <td>0.0</td>\n",
       "      <td>0.0</td>\n",
       "      <td>1.0</td>\n",
       "      <td>0</td>\n",
       "    </tr>\n",
       "    <tr>\n",
       "      <th>...</th>\n",
       "      <td>...</td>\n",
       "      <td>...</td>\n",
       "      <td>...</td>\n",
       "      <td>...</td>\n",
       "      <td>...</td>\n",
       "      <td>...</td>\n",
       "      <td>...</td>\n",
       "      <td>...</td>\n",
       "      <td>...</td>\n",
       "      <td>...</td>\n",
       "      <td>...</td>\n",
       "      <td>...</td>\n",
       "      <td>...</td>\n",
       "      <td>...</td>\n",
       "      <td>...</td>\n",
       "      <td>...</td>\n",
       "      <td>...</td>\n",
       "      <td>...</td>\n",
       "      <td>...</td>\n",
       "      <td>...</td>\n",
       "      <td>...</td>\n",
       "    </tr>\n",
       "    <tr>\n",
       "      <th>40901</th>\n",
       "      <td>Zzish</td>\n",
       "      <td>Education</td>\n",
       "      <td>320000</td>\n",
       "      <td>operating</td>\n",
       "      <td>GBR</td>\n",
       "      <td>NaN</td>\n",
       "      <td>London</td>\n",
       "      <td>London</td>\n",
       "      <td>1.0</td>\n",
       "      <td>2013-01-28</td>\n",
       "      <td>...</td>\n",
       "      <td>0.0</td>\n",
       "      <td>0.0</td>\n",
       "      <td>0.0</td>\n",
       "      <td>0.0</td>\n",
       "      <td>0.0</td>\n",
       "      <td>0.0</td>\n",
       "      <td>0.0</td>\n",
       "      <td>0.0</td>\n",
       "      <td>1.0</td>\n",
       "      <td>0</td>\n",
       "    </tr>\n",
       "    <tr>\n",
       "      <th>40902</th>\n",
       "      <td>ZZNode Science and Technology</td>\n",
       "      <td>Enterprise Software</td>\n",
       "      <td>1587301</td>\n",
       "      <td>operating</td>\n",
       "      <td>CHN</td>\n",
       "      <td>NaN</td>\n",
       "      <td>Beijing</td>\n",
       "      <td>Beijing</td>\n",
       "      <td>1.0</td>\n",
       "      <td>NaN</td>\n",
       "      <td>...</td>\n",
       "      <td>1587301.0</td>\n",
       "      <td>0.0</td>\n",
       "      <td>0.0</td>\n",
       "      <td>0.0</td>\n",
       "      <td>0.0</td>\n",
       "      <td>0.0</td>\n",
       "      <td>0.0</td>\n",
       "      <td>0.0</td>\n",
       "      <td>NaN</td>\n",
       "      <td>0</td>\n",
       "    </tr>\n",
       "    <tr>\n",
       "      <th>40903</th>\n",
       "      <td>Zzzzapp Wireless ltd.</td>\n",
       "      <td>Web Development</td>\n",
       "      <td>97398</td>\n",
       "      <td>operating</td>\n",
       "      <td>HRV</td>\n",
       "      <td>NaN</td>\n",
       "      <td>Split</td>\n",
       "      <td>Split</td>\n",
       "      <td>5.0</td>\n",
       "      <td>2012-05-13</td>\n",
       "      <td>...</td>\n",
       "      <td>0.0</td>\n",
       "      <td>0.0</td>\n",
       "      <td>0.0</td>\n",
       "      <td>0.0</td>\n",
       "      <td>0.0</td>\n",
       "      <td>0.0</td>\n",
       "      <td>0.0</td>\n",
       "      <td>0.0</td>\n",
       "      <td>5.0</td>\n",
       "      <td>0</td>\n",
       "    </tr>\n",
       "    <tr>\n",
       "      <th>40904</th>\n",
       "      <td>[a]list games</td>\n",
       "      <td>Games</td>\n",
       "      <td>9300000</td>\n",
       "      <td>operating</td>\n",
       "      <td>NaN</td>\n",
       "      <td>NaN</td>\n",
       "      <td>NaN</td>\n",
       "      <td>NaN</td>\n",
       "      <td>1.0</td>\n",
       "      <td>NaN</td>\n",
       "      <td>...</td>\n",
       "      <td>0.0</td>\n",
       "      <td>0.0</td>\n",
       "      <td>0.0</td>\n",
       "      <td>0.0</td>\n",
       "      <td>0.0</td>\n",
       "      <td>0.0</td>\n",
       "      <td>0.0</td>\n",
       "      <td>0.0</td>\n",
       "      <td>NaN</td>\n",
       "      <td>0</td>\n",
       "    </tr>\n",
       "    <tr>\n",
       "      <th>40905</th>\n",
       "      <td>[x+1]</td>\n",
       "      <td>Enterprise Software</td>\n",
       "      <td>45000000</td>\n",
       "      <td>operating</td>\n",
       "      <td>USA</td>\n",
       "      <td>NY</td>\n",
       "      <td>New York City</td>\n",
       "      <td>New York</td>\n",
       "      <td>4.0</td>\n",
       "      <td>1999-01-01</td>\n",
       "      <td>...</td>\n",
       "      <td>16000000.0</td>\n",
       "      <td>10000000.0</td>\n",
       "      <td>0.0</td>\n",
       "      <td>0.0</td>\n",
       "      <td>0.0</td>\n",
       "      <td>0.0</td>\n",
       "      <td>0.0</td>\n",
       "      <td>0.0</td>\n",
       "      <td>1.0</td>\n",
       "      <td>0</td>\n",
       "    </tr>\n",
       "  </tbody>\n",
       "</table>\n",
       "<p>40906 rows × 35 columns</p>\n",
       "</div>"
      ],
      "text/plain": [
       "                                name                 market  \\\n",
       "0                           #waywire                  News    \n",
       "1                 &TV Communications                 Games    \n",
       "2                  'Rock' Your Paper            Publishing    \n",
       "3                  (In)Touch Network           Electronics    \n",
       "4                 -R- Ranch and Mine               Tourism    \n",
       "...                              ...                    ...   \n",
       "40901                          Zzish             Education    \n",
       "40902  ZZNode Science and Technology   Enterprise Software    \n",
       "40903          Zzzzapp Wireless ltd.       Web Development    \n",
       "40904                  [a]list games                 Games    \n",
       "40905                          [x+1]   Enterprise Software    \n",
       "\n",
       "       funding_total_usd     status country_code state_code         region  \\\n",
       "0                1750000   acquired          USA         NY  New York City   \n",
       "1                4000000  operating          USA         CA    Los Angeles   \n",
       "2                  40000  operating          EST        NaN        Tallinn   \n",
       "3                1500000  operating          GBR        NaN         London   \n",
       "4                  60000  operating          USA         TX         Dallas   \n",
       "...                  ...        ...          ...        ...            ...   \n",
       "40901             320000  operating          GBR        NaN         London   \n",
       "40902            1587301  operating          CHN        NaN        Beijing   \n",
       "40903              97398  operating          HRV        NaN          Split   \n",
       "40904            9300000  operating          NaN        NaN            NaN   \n",
       "40905           45000000  operating          USA         NY  New York City   \n",
       "\n",
       "              city  funding_rounds  founded_at  ...     round_A     round_B  \\\n",
       "0         New York             1.0  2012-06-01  ...         0.0         0.0   \n",
       "1      Los Angeles             2.0         NaN  ...         0.0         0.0   \n",
       "2          Tallinn             1.0  2012-10-26  ...         0.0         0.0   \n",
       "3           London             1.0  2011-04-01  ...         0.0         0.0   \n",
       "4       Fort Worth             2.0  2014-01-01  ...         0.0         0.0   \n",
       "...            ...             ...         ...  ...         ...         ...   \n",
       "40901       London             1.0  2013-01-28  ...         0.0         0.0   \n",
       "40902      Beijing             1.0         NaN  ...   1587301.0         0.0   \n",
       "40903        Split             5.0  2012-05-13  ...         0.0         0.0   \n",
       "40904          NaN             1.0         NaN  ...         0.0         0.0   \n",
       "40905     New York             4.0  1999-01-01  ...  16000000.0  10000000.0   \n",
       "\n",
       "       round_C  round_D  round_E  round_F  round_G  round_H  founded_month  \\\n",
       "0          0.0      0.0      0.0      0.0      0.0      0.0            6.0   \n",
       "1          0.0      0.0      0.0      0.0      0.0      0.0            NaN   \n",
       "2          0.0      0.0      0.0      0.0      0.0      0.0           10.0   \n",
       "3          0.0      0.0      0.0      0.0      0.0      0.0            4.0   \n",
       "4          0.0      0.0      0.0      0.0      0.0      0.0            1.0   \n",
       "...        ...      ...      ...      ...      ...      ...            ...   \n",
       "40901      0.0      0.0      0.0      0.0      0.0      0.0            1.0   \n",
       "40902      0.0      0.0      0.0      0.0      0.0      0.0            NaN   \n",
       "40903      0.0      0.0      0.0      0.0      0.0      0.0            5.0   \n",
       "40904      0.0      0.0      0.0      0.0      0.0      0.0            NaN   \n",
       "40905      0.0      0.0      0.0      0.0      0.0      0.0            1.0   \n",
       "\n",
       "       founded_year  \n",
       "0                 0  \n",
       "1                 0  \n",
       "2                 0  \n",
       "3                 0  \n",
       "4                 0  \n",
       "...             ...  \n",
       "40901             0  \n",
       "40902             0  \n",
       "40903             0  \n",
       "40904             0  \n",
       "40905             0  \n",
       "\n",
       "[40906 rows x 35 columns]"
      ]
     },
     "execution_count": 60,
     "metadata": {},
     "output_type": "execute_result"
    }
   ],
   "source": [
    "df2"
   ]
  },
  {
   "cell_type": "code",
   "execution_count": 62,
   "id": "d883a693-5415-423f-ace8-28b3a0e6f9e6",
   "metadata": {},
   "outputs": [
    {
     "data": {
      "text/plain": [
       "np.int64(2)"
      ]
     },
     "execution_count": 62,
     "metadata": {},
     "output_type": "execute_result"
    }
   ],
   "source": [
    "df2[\"first_funding_at\"].isnull().sum()"
   ]
  },
  {
   "cell_type": "code",
   "execution_count": 65,
   "id": "65efa02b-c344-4b5a-aa60-3415c4030084",
   "metadata": {},
   "outputs": [],
   "source": [
    "df2[\"first_funding_at\"]=df2[\"first_funding_at\"].dropna()"
   ]
  },
  {
   "cell_type": "code",
   "execution_count": 66,
   "id": "fd981b6d-f010-4539-ad33-2bfa1132111d",
   "metadata": {},
   "outputs": [
    {
     "data": {
      "text/plain": [
       "np.int64(2)"
      ]
     },
     "execution_count": 66,
     "metadata": {},
     "output_type": "execute_result"
    }
   ],
   "source": [
    "df2[\"first_funding_at\"].isnull().sum()"
   ]
  },
  {
   "cell_type": "code",
   "execution_count": 68,
   "id": "302e75bf-a7d6-472a-b92b-b44d28c9af61",
   "metadata": {},
   "outputs": [],
   "source": [
    "df2.fillna({\n",
    "    \"country_code\": \"Unknown\",\n",
    "    \"state_code\": \"Unknown\",\n",
    "    \"city\": \"Unknown\",\n",
    "    \"region\" : \"Unknown\"\n",
    "}, inplace=True)"
   ]
  },
  {
   "cell_type": "code",
   "execution_count": 69,
   "id": "d9ad5e46-632f-4d9b-a1a5-7b4a8746cbc4",
   "metadata": {},
   "outputs": [
    {
     "data": {
      "text/plain": [
       "np.int64(2)"
      ]
     },
     "execution_count": 69,
     "metadata": {},
     "output_type": "execute_result"
    }
   ],
   "source": [
    "df2[\"first_funding_at\"].isnull().sum()"
   ]
  },
  {
   "cell_type": "code",
   "execution_count": 74,
   "id": "d806173c-8e78-47ec-8010-ad1adbc415b1",
   "metadata": {},
   "outputs": [
    {
     "data": {
      "text/plain": [
       "np.int64(0)"
      ]
     },
     "execution_count": 74,
     "metadata": {},
     "output_type": "execute_result"
    }
   ],
   "source": [
    "df2[\"region\"].isnull().sum()"
   ]
  },
  {
   "cell_type": "code",
   "execution_count": 77,
   "id": "7f4d9db8-11d0-4f77-b49f-6146ded2306c",
   "metadata": {},
   "outputs": [],
   "source": [
    "df2[\"first_funding_at\"] = df2[\"first_funding_at\"].dropna()\n"
   ]
  },
  {
   "cell_type": "code",
   "execution_count": 79,
   "id": "f2af3c5f-3790-4740-bdef-5c0631efb46b",
   "metadata": {},
   "outputs": [],
   "source": [
    "df2 = df2.dropna(subset=[\"first_funding_at\"])\n"
   ]
  },
  {
   "cell_type": "code",
   "execution_count": 80,
   "id": "5bdb4f4b-a0fb-4f5a-a310-e5edfe661d97",
   "metadata": {},
   "outputs": [
    {
     "data": {
      "text/plain": [
       "np.int64(0)"
      ]
     },
     "execution_count": 80,
     "metadata": {},
     "output_type": "execute_result"
    }
   ],
   "source": [
    "df2[\"first_funding_at\"].isnull().sum()"
   ]
  },
  {
   "cell_type": "code",
   "execution_count": 81,
   "id": "f16e6eb3-e888-4476-925b-b633be320644",
   "metadata": {},
   "outputs": [
    {
     "data": {
      "text/plain": [
       "0        2012-06-01\n",
       "1               NaN\n",
       "2        2012-10-26\n",
       "3        2011-04-01\n",
       "4        2014-01-01\n",
       "            ...    \n",
       "40901    2013-01-28\n",
       "40902           NaN\n",
       "40903    2012-05-13\n",
       "40904           NaN\n",
       "40905    1999-01-01\n",
       "Name: founded_at, Length: 40904, dtype: object"
      ]
     },
     "execution_count": 81,
     "metadata": {},
     "output_type": "execute_result"
    }
   ],
   "source": [
    "df2[\"founded_at\"]"
   ]
  },
  {
   "cell_type": "code",
   "execution_count": 82,
   "id": "cf4c4c07-923f-42cd-9ea9-51312b90fda4",
   "metadata": {},
   "outputs": [],
   "source": [
    "df2 = df2.drop(columns=[\"founded_month\", \"founded_year\"])\n"
   ]
  },
  {
   "cell_type": "code",
   "execution_count": 83,
   "id": "b1904356-ee16-4bfb-8f32-6a990de9a33f",
   "metadata": {},
   "outputs": [
    {
     "data": {
      "text/plain": [
       "Index(['name', 'market', 'funding_total_usd', 'status', 'country_code',\n",
       "       'state_code', 'region', 'city', 'funding_rounds', 'founded_at',\n",
       "       'first_funding_at', 'last_funding_at', 'seed', 'venture',\n",
       "       'equity_crowdfunding', 'undisclosed', 'convertible_note',\n",
       "       'debt_financing', 'angel', 'grant', 'private_equity', 'post_ipo_equity',\n",
       "       'post_ipo_debt', 'secondary_market', 'product_crowdfunding', 'round_A',\n",
       "       'round_B', 'round_C', 'round_D', 'round_E', 'round_F', 'round_G',\n",
       "       'round_H'],\n",
       "      dtype='object')"
      ]
     },
     "execution_count": 83,
     "metadata": {},
     "output_type": "execute_result"
    }
   ],
   "source": [
    "df2.columns"
   ]
  },
  {
   "cell_type": "code",
   "execution_count": 84,
   "id": "4f6e0eda-624c-4902-81b2-071d5cd53d86",
   "metadata": {},
   "outputs": [],
   "source": [
    "df2[\"founded_at\"] = pd.to_datetime(df2[\"founded_at\"], errors=\"coerce\")  # Convert to datetime\n",
    "df2[\"founded_year\"] = df2[\"founded_at\"].dt.year  # Extract year\n"
   ]
  },
  {
   "cell_type": "code",
   "execution_count": 85,
   "id": "3f4c9dfc-e174-4f55-b98a-a9246a9d8877",
   "metadata": {},
   "outputs": [
    {
     "data": {
      "text/plain": [
       "0        2012.0\n",
       "1           NaN\n",
       "2        2012.0\n",
       "3        2011.0\n",
       "4        2014.0\n",
       "          ...  \n",
       "40901    2013.0\n",
       "40902       NaN\n",
       "40903    2012.0\n",
       "40904       NaN\n",
       "40905    1999.0\n",
       "Name: founded_year, Length: 40904, dtype: float64"
      ]
     },
     "execution_count": 85,
     "metadata": {},
     "output_type": "execute_result"
    }
   ],
   "source": [
    "df2[\"founded_year\"]"
   ]
  },
  {
   "cell_type": "code",
   "execution_count": 86,
   "id": "d3f82ea6-9d6a-4f40-9af9-668084345342",
   "metadata": {},
   "outputs": [],
   "source": [
    "df2[\"founded_year\"] = df2[\"founded_year\"].astype(\"Int64\")  # Int64 allows NaN values\n"
   ]
  },
  {
   "cell_type": "code",
   "execution_count": 87,
   "id": "ac694886-fa6d-4e6d-bd11-9c8f6e898b46",
   "metadata": {},
   "outputs": [
    {
     "data": {
      "text/plain": [
       "0        2012\n",
       "1        <NA>\n",
       "2        2012\n",
       "3        2011\n",
       "4        2014\n",
       "         ... \n",
       "40901    2013\n",
       "40902    <NA>\n",
       "40903    2012\n",
       "40904    <NA>\n",
       "40905    1999\n",
       "Name: founded_year, Length: 40904, dtype: Int64"
      ]
     },
     "execution_count": 87,
     "metadata": {},
     "output_type": "execute_result"
    }
   ],
   "source": [
    "df2[\"founded_year\"]\n"
   ]
  },
  {
   "cell_type": "markdown",
   "id": "b14ef276-05fb-44b8-9354-387c4fd4ce96",
   "metadata": {},
   "source": [
    "# Does \"first_funding_at\" Relate to \"founded_year\"?\n",
    "# ✅ In many cases, yes:\n",
    "\n",
    "# A company is usually founded first and then seeks funding.\n",
    "# If \"founded_year\" is missing but \"first_funding_at\" is available, we can assume the company was founded on or before that date.\n",
    "# Example: If \"first_funding_at\" = 2015-06-01\", then \"founded_year\" is likely 2015 or earlier.\n",
    "# ❌ But not always:\n",
    "\n",
    "# Some companies get funding before officially being incorporated (e.g., in stealth mode).\n",
    "# Some startups operate for years before receiving funding (so \"first_funding_at\" could be much later)."
   ]
  },
  {
   "cell_type": "code",
   "execution_count": 89,
   "id": "1d2a64d6-79a4-4900-84ac-1829e9e15a94",
   "metadata": {},
   "outputs": [],
   "source": [
    "# Create a new column and fill NaN values with the year from 'first_funding_at'\n",
    "# Convert 'first_funding_at' to datetime if it is not already\n",
    "df2[\"first_funding_at\"] = pd.to_datetime(df2[\"first_funding_at\"], errors='coerce')\n",
    "\n",
    "# Create a new column and fill NaN values with the year from 'first_funding_at'\n",
    "df2[\"found_year_by_firstfunded\"] = df2[\"founded_year\"].fillna(df2[\"first_funding_at\"].dt.year)\n"
   ]
  },
  {
   "cell_type": "code",
   "execution_count": 90,
   "id": "dc5220de-235b-4fb0-bdca-061f5e03c2f6",
   "metadata": {},
   "outputs": [
    {
     "data": {
      "text/plain": [
       "Int64Dtype()"
      ]
     },
     "execution_count": 90,
     "metadata": {},
     "output_type": "execute_result"
    }
   ],
   "source": [
    "df2[\"found_year_by_firstfunded\"].dtype"
   ]
  },
  {
   "cell_type": "code",
   "execution_count": 91,
   "id": "41fac1f5-8edf-457b-8b21-b8d929a80353",
   "metadata": {},
   "outputs": [
    {
     "data": {
      "text/plain": [
       "0        2012\n",
       "1        2010\n",
       "2        2012\n",
       "3        2011\n",
       "4        2014\n",
       "         ... \n",
       "40901    2013\n",
       "40902    2012\n",
       "40903    2012\n",
       "40904    2011\n",
       "40905    1999\n",
       "Name: found_year_by_firstfunded, Length: 40904, dtype: Int64"
      ]
     },
     "execution_count": 91,
     "metadata": {},
     "output_type": "execute_result"
    }
   ],
   "source": [
    "df2[\"found_year_by_firstfunded\"]"
   ]
  },
  {
   "cell_type": "code",
   "execution_count": 92,
   "id": "c516868e-d103-4769-9e95-4dbe76acc6f2",
   "metadata": {},
   "outputs": [
    {
     "data": {
      "text/plain": [
       "np.int64(0)"
      ]
     },
     "execution_count": 92,
     "metadata": {},
     "output_type": "execute_result"
    }
   ],
   "source": [
    "df2[\"found_year_by_firstfunded\"].isnull().sum()"
   ]
  },
  {
   "cell_type": "code",
   "execution_count": 93,
   "id": "f102168c-5514-4bd4-9235-fdd2d76cb752",
   "metadata": {},
   "outputs": [],
   "source": [
    "# Convert 'first_funding_at' and 'last_funding_at' to datetime\n",
    "df2[\"first_funding_at\"] = pd.to_datetime(df2[\"first_funding_at\"], errors='coerce')\n",
    "df2[\"last_funding_at\"] = pd.to_datetime(df2[\"last_funding_at\"], errors='coerce')\n",
    "\n",
    "# Extract the year from 'first_funding_at' and 'last_funding_at'\n",
    "df2[\"first_funding_year\"] = df2[\"first_funding_at\"].dt.year\n",
    "df2[\"last_funding_year\"] = df2[\"last_funding_at\"].dt.year\n"
   ]
  },
  {
   "cell_type": "code",
   "execution_count": 94,
   "id": "879621d3-2180-4917-9ea5-4c3ab2b8373b",
   "metadata": {},
   "outputs": [
    {
     "data": {
      "text/plain": [
       "0        2012\n",
       "1        2010\n",
       "2        2012\n",
       "3        2011\n",
       "4        2014\n",
       "         ... \n",
       "40901    2014\n",
       "40902    2012\n",
       "40903    2011\n",
       "40904    2011\n",
       "40905    2008\n",
       "Name: first_funding_year, Length: 40904, dtype: int32"
      ]
     },
     "execution_count": 94,
     "metadata": {},
     "output_type": "execute_result"
    }
   ],
   "source": [
    "df2[\"first_funding_year\"]"
   ]
  },
  {
   "cell_type": "code",
   "execution_count": 95,
   "id": "8a82f946-dcbe-4437-918c-a71efe8b07d3",
   "metadata": {},
   "outputs": [
    {
     "data": {
      "text/plain": [
       "0        2012\n",
       "1        2010\n",
       "2        2012\n",
       "3        2011\n",
       "4        2014\n",
       "         ... \n",
       "40901    2014\n",
       "40902    2012\n",
       "40903    2014\n",
       "40904    2011\n",
       "40905    2013\n",
       "Name: last_funding_year, Length: 40904, dtype: int32"
      ]
     },
     "execution_count": 95,
     "metadata": {},
     "output_type": "execute_result"
    }
   ],
   "source": [
    "df2[\"last_funding_year\"]"
   ]
  },
  {
   "cell_type": "code",
   "execution_count": 98,
   "id": "a5e2766b-55ef-4f11-b0bb-afab91494447",
   "metadata": {},
   "outputs": [],
   "source": [
    "df2.to_csv(\"Exported_Startup_Filelatest.csv\", index=False)"
   ]
  },
  {
   "cell_type": "code",
   "execution_count": null,
   "id": "459624b5-cbbc-42cb-82d2-d1f55396219d",
   "metadata": {},
   "outputs": [],
   "source": []
  }
 ],
 "metadata": {
  "kernelspec": {
   "display_name": "Python 3 (ipykernel)",
   "language": "python",
   "name": "python3"
  },
  "language_info": {
   "codemirror_mode": {
    "name": "ipython",
    "version": 3
   },
   "file_extension": ".py",
   "mimetype": "text/x-python",
   "name": "python",
   "nbconvert_exporter": "python",
   "pygments_lexer": "ipython3",
   "version": "3.13.1"
  }
 },
 "nbformat": 4,
 "nbformat_minor": 5
}
